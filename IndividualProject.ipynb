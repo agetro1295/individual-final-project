{
 "cells": [
  {
   "cell_type": "markdown",
   "metadata": {},
   "source": [
    "# Introduction"
   ]
  },
  {
   "cell_type": "markdown",
   "metadata": {},
   "source": [
    "**A key duty a Data Scientist must be able to perform is to be able to clean, merge and interpret data that come from multiple sources. This tutorial is aimed at providing a walk through of how these three duties are performed.**"
   ]
  },
  {
   "cell_type": "code",
   "execution_count": 200,
   "metadata": {},
   "outputs": [],
   "source": [
    "import wikipedia as wp\n",
    "from bs4 import BeautifulSoup\n",
    "import requests\n",
    "import pandas as pd\n",
    "import seaborn as sns\n",
    "import numpy as np\n",
    "import matplotlib.pyplot as plt\n",
    "import matplotlib.patches as npatches\n",
    "from pandas.io.html import read_html\n",
    "import math"
   ]
  },
  {
   "cell_type": "markdown",
   "metadata": {},
   "source": [
    "# Main Body"
   ]
  },
  {
   "cell_type": "markdown",
   "metadata": {},
   "source": [
    "**Number of Guns per Capita Data Set**"
   ]
  },
  {
   "cell_type": "markdown",
   "metadata": {},
   "source": [
    "**Web scraping data can be a challenging task. Fortunatley, python has packages that can make this task a breeze. The wikipedia package used below is an example of this since it automatically turns a table imported from wikipedia into a data frame provided it is of the table class \"wikitable sortable\".**"
   ]
  },
  {
   "cell_type": "code",
   "execution_count": 201,
   "metadata": {},
   "outputs": [],
   "source": [
    "html = wp.page(\"Estimated number of civilian guns per capita by country\").html().encode(\"UTF-8\")\n",
    "gunsPerCapita = pd.read_html(html)[0]"
   ]
  },
  {
   "cell_type": "markdown",
   "metadata": {},
   "source": [
    "**Homocide Rate per Country Data Set**"
   ]
  },
  {
   "cell_type": "markdown",
   "metadata": {},
   "source": [
    "**When we read tables from wikipedia that is not of the table class wikitable sortable, it is necessary to use beautiful soup\n",
    "to find which table class the data we are trying to import is in. This done with the function below. It will give the wikipedia page in HTML form. From there, all that is left to do is to locate the table class the data we want to import is in. In this case, it was the \"wikitable nowrap sortable mw-datatable\"**"
   ]
  },
  {
   "cell_type": "code",
   "execution_count": 265,
   "metadata": {},
   "outputs": [],
   "source": [
    "url = requests.get('https://en.wikipedia.org/wiki/List_of_countries_by_intentional_homicide_rate').text\n",
    "soup = BeautifulSoup(url,'lxml')\n",
    "#table class=\"wikitable nowrap sortable mw-datatable\" id=\"UNODC\n"
   ]
  },
  {
   "cell_type": "code",
   "execution_count": 202,
   "metadata": {},
   "outputs": [],
   "source": [
    "page = \"https://en.wikipedia.org/wiki/List_of_countries_by_intentional_homicide_rate\"\n",
    "murderRate = pd.read_html(page, attrs={\"class\":\"wikitable nowrap sortable mw-datatable\"})[0]"
   ]
  },
  {
   "cell_type": "markdown",
   "metadata": {},
   "source": [
    "**Nominal GDP per Country Data Set**"
   ]
  },
  {
   "cell_type": "code",
   "execution_count": 203,
   "metadata": {},
   "outputs": [],
   "source": [
    "html3 = wp.page(\"List of countries by GDP (nominal)\").html().encode(\"UTF-8\")\n",
    "GDP = pd.read_html(html3)[3]"
   ]
  },
  {
   "cell_type": "markdown",
   "metadata": {},
   "source": [
    "# Cleaning Data Sets"
   ]
  },
  {
   "cell_type": "markdown",
   "metadata": {},
   "source": [
    "**To start the data cleaning process, it's good practice to look at the head and tail of the data being cleaned to check if there are any rows or column with garbage values. If there are, they can be dropped. When I did this for my data set, I noticed a column with links called notes as well as an extra index column. "
   ]
  },
  {
   "cell_type": "markdown",
   "metadata": {},
   "source": [
    "**Number of Guns per Capita Data Set Cleaning**"
   ]
  },
  {
   "cell_type": "code",
   "execution_count": 204,
   "metadata": {},
   "outputs": [],
   "source": [
    "#Removes the unamed column (extra index) and the notes column\n",
    "Draft = gunsPerCapita.drop(['Unnamed: 0','Notes'],axis = 1)\n",
    "Draft = Draft.drop([0])"
   ]
  },
  {
   "cell_type": "markdown",
   "metadata": {},
   "source": [
    "**Since the data sets will be merged later on, it's important that the columns have appropriate column names. With this in mind, I changed the column names of the data set and subsetted it to only the columns that will be used for analysis.**"
   ]
  },
  {
   "cell_type": "code",
   "execution_count": 205,
   "metadata": {},
   "outputs": [],
   "source": [
    "#Renames Columns\n",
    "names = ['Country','Firearms per 100 persons','Region','Subregion','Population 2017','Total firearms in civilian possession',\n",
    "         'Computation method','Registered Firearms','Unregistered firearms']\n",
    "Draft.columns = names"
   ]
  },
  {
   "cell_type": "code",
   "execution_count": 206,
   "metadata": {},
   "outputs": [],
   "source": [
    "#Subsets dataset to data we are interested in\n",
    "GunsCapita = Draft[['Country','Firearms per 100 persons','Population 2017','Total firearms in civilian possession']]"
   ]
  },
  {
   "cell_type": "markdown",
   "metadata": {},
   "source": [
    "**It's important to make sure that a data set contains no Null values. The function dfName.isnull().sum() will output the total null values in each column of the data set. If there are Null values in the data set, it is either dropped or imputed.** "
   ]
  },
  {
   "cell_type": "markdown",
   "metadata": {},
   "source": [
    "**It's best to drop Null values if the proportion between the number of missing values and the size of the data set is small. Otherwise it is imputed. Note however that imputation works best if the missing values are missing at random. If a columns has too many missing values (50% or more missing), it is best to drop it.**"
   ]
  },
  {
   "cell_type": "code",
   "execution_count": 207,
   "metadata": {},
   "outputs": [
    {
     "data": {
      "text/plain": [
       "Country                                  0\n",
       "Firearms per 100 persons                 0\n",
       "Population 2017                          0\n",
       "Total firearms in civilian possession    0\n",
       "dtype: int64"
      ]
     },
     "execution_count": 207,
     "metadata": {},
     "output_type": "execute_result"
    }
   ],
   "source": [
    "#Ensures Data set has no null-values\n",
    "nullCount = GunsCapita.isnull().sum()\n",
    "nullCount\n"
   ]
  },
  {
   "cell_type": "markdown",
   "metadata": {},
   "source": [
    "**Homocide Rate per Country Data Set Cleaning**"
   ]
  },
  {
   "cell_type": "code",
   "execution_count": 208,
   "metadata": {},
   "outputs": [
    {
     "data": {
      "text/plain": [
       "Country                          0\n",
       "Murder Rate                      0\n",
       "Number of Intentional murders    0\n",
       "dtype: int64"
      ]
     },
     "execution_count": 208,
     "metadata": {},
     "output_type": "execute_result"
    }
   ],
   "source": [
    "#Subsets the data to columns we want\n",
    "subsetData = murderRate[['Country (or dependent territory, subnational area, etc.)','Rate','Count']]\n",
    "#Renames Columns\n",
    "names = ['Country','Murder Rate','Number of Intentional murders']\n",
    "subsetData.columns = names\n",
    "#Checks to ensure there is no null values\n",
    "nullCount = subsetData.isnull().sum()\n",
    "nullCount"
   ]
  },
  {
   "cell_type": "markdown",
   "metadata": {},
   "source": [
    "**Nominal GDP 2017 Data Set Cleaning**"
   ]
  },
  {
   "cell_type": "code",
   "execution_count": 210,
   "metadata": {},
   "outputs": [],
   "source": [
    "#Takes out World and the European Union from the data frame\n",
    "GDP = GDP.drop(GDP.index[0]).copy()\n",
    "GDP = GDP.drop(GDP.index[1]).copy()\n",
    "GDP = GDP.reset_index()\n",
    "GDP = GDP.drop('index', axis=1)"
   ]
  },
  {
   "cell_type": "code",
   "execution_count": 211,
   "metadata": {},
   "outputs": [],
   "source": [
    "#Takes out links at the end of each country's name\n",
    "#Reverses the name of countries with ,(as in Korea, South is changed to South Korea.)\n",
    "names = GDP['Country/Territory']\n",
    "newName = []\n",
    "for i in range(len(names)):\n",
    "    countryName = names[i]\n",
    "    if countryName.find('[') != -1:\n",
    "        index = countryName.find('[')\n",
    "        substr = countryName[0:(index)]\n",
    "        newName.append(substr)\n",
    "    elif countryName.find(',') != -1:\n",
    "        index = countryName.find(',')\n",
    "        name1 = countryName[0:index]\n",
    "        name2 = countryName[(index+2):(len(countryName))]\n",
    "        space = \" \"\n",
    "        flippedName = name2 + space + name1 \n",
    "        newName.append(flippedName)\n",
    "    else:\n",
    "        newName.append(countryName)       "
   ]
  },
  {
   "cell_type": "code",
   "execution_count": 212,
   "metadata": {},
   "outputs": [],
   "source": [
    "#Sets modified names as columns\n",
    "GDP['Country/Territory'] = pd.Series(newName)\n",
    "GDP = GDP.rename(columns={\"Country/Territory\": \"Country\"})"
   ]
  },
  {
   "cell_type": "markdown",
   "metadata": {},
   "source": [
    "# Merging the Data Sets\n"
   ]
  },
  {
   "cell_type": "markdown",
   "metadata": {},
   "source": [
    "**Merging can be accomplished in many ways in python. If the data sets that needs to be merged share the same columns, then merging is best performed using the pd.concat(objs, axis=0, join='outer', ignore_index=False, keys=None) function. Note that objs is the list of data frame being concatenated**"
   ]
  },
  {
   "cell_type": "markdown",
   "metadata": {},
   "source": [
    "**If the data sets being merged only share a common rows, then merging is best performed by using the pd.concat(obj, axis=1, join='inner') function. Again, note that the obj is a list of the dataframes being merged.**"
   ]
  },
  {
   "cell_type": "markdown",
   "metadata": {},
   "source": [
    "**If the data sets being merged are of mixed dimensions, it's possible to merge the data sets based on a common column. In this case,merging is performed using  pd.merge(1,2,..,X on='common column') where 1,2,...,X are dataframes which share a common Column**"
   ]
  },
  {
   "cell_type": "code",
   "execution_count": 213,
   "metadata": {},
   "outputs": [
    {
     "data": {
      "text/html": [
       "<div>\n",
       "<style scoped>\n",
       "    .dataframe tbody tr th:only-of-type {\n",
       "        vertical-align: middle;\n",
       "    }\n",
       "\n",
       "    .dataframe tbody tr th {\n",
       "        vertical-align: top;\n",
       "    }\n",
       "\n",
       "    .dataframe thead th {\n",
       "        text-align: right;\n",
       "    }\n",
       "</style>\n",
       "<table border=\"1\" class=\"dataframe\">\n",
       "  <thead>\n",
       "    <tr style=\"text-align: right;\">\n",
       "      <th></th>\n",
       "      <th>Country</th>\n",
       "      <th>Firearms per 100 persons</th>\n",
       "      <th>Population 2017</th>\n",
       "      <th>Total firearms in civilian possession</th>\n",
       "      <th>Murder Rate</th>\n",
       "      <th>Number of Intentional murders</th>\n",
       "      <th>Rank</th>\n",
       "      <th>GDP(US$million)</th>\n",
       "    </tr>\n",
       "  </thead>\n",
       "  <tbody>\n",
       "    <tr>\n",
       "      <th>0</th>\n",
       "      <td>United States</td>\n",
       "      <td>120.5</td>\n",
       "      <td>326474000.0</td>\n",
       "      <td>393347000</td>\n",
       "      <td>5.30</td>\n",
       "      <td>17284</td>\n",
       "      <td>1</td>\n",
       "      <td>21439453</td>\n",
       "    </tr>\n",
       "    <tr>\n",
       "      <th>1</th>\n",
       "      <td>Yemen</td>\n",
       "      <td>52.8</td>\n",
       "      <td>28120000.0</td>\n",
       "      <td>14859000</td>\n",
       "      <td>6.66</td>\n",
       "      <td>1703</td>\n",
       "      <td>100</td>\n",
       "      <td>29855</td>\n",
       "    </tr>\n",
       "    <tr>\n",
       "      <th>2</th>\n",
       "      <td>Montenegro</td>\n",
       "      <td>39.1</td>\n",
       "      <td>626000.0</td>\n",
       "      <td>245000</td>\n",
       "      <td>2.40</td>\n",
       "      <td>15</td>\n",
       "      <td>148</td>\n",
       "      <td>5424</td>\n",
       "    </tr>\n",
       "    <tr>\n",
       "      <th>3</th>\n",
       "      <td>Serbia</td>\n",
       "      <td>39.1</td>\n",
       "      <td>6946000.0</td>\n",
       "      <td>2719000</td>\n",
       "      <td>1.10</td>\n",
       "      <td>94</td>\n",
       "      <td>84</td>\n",
       "      <td>51523</td>\n",
       "    </tr>\n",
       "    <tr>\n",
       "      <th>4</th>\n",
       "      <td>Canada</td>\n",
       "      <td>34.7</td>\n",
       "      <td>36626000.0</td>\n",
       "      <td>12708000</td>\n",
       "      <td>1.80</td>\n",
       "      <td>660</td>\n",
       "      <td>10</td>\n",
       "      <td>1730914</td>\n",
       "    </tr>\n",
       "  </tbody>\n",
       "</table>\n",
       "</div>"
      ],
      "text/plain": [
       "         Country  Firearms per 100 persons  Population 2017  \\\n",
       "0  United States                     120.5      326474000.0   \n",
       "1          Yemen                      52.8       28120000.0   \n",
       "2     Montenegro                      39.1         626000.0   \n",
       "3         Serbia                      39.1        6946000.0   \n",
       "4         Canada                      34.7       36626000.0   \n",
       "\n",
       "  Total firearms in civilian possession  Murder Rate  \\\n",
       "0                             393347000         5.30   \n",
       "1                              14859000         6.66   \n",
       "2                                245000         2.40   \n",
       "3                               2719000         1.10   \n",
       "4                              12708000         1.80   \n",
       "\n",
       "   Number of Intentional murders Rank GDP(US$million)  \n",
       "0                          17284    1        21439453  \n",
       "1                           1703  100           29855  \n",
       "2                             15  148            5424  \n",
       "3                             94   84           51523  \n",
       "4                            660   10         1730914  "
      ]
     },
     "execution_count": 213,
     "metadata": {},
     "output_type": "execute_result"
    }
   ],
   "source": [
    "#Merges by country name.\n",
    "subsetData\n",
    "GunsCapita \n",
    "joinedDf = pd.merge(GunsCapita,subsetData, on='Country')\n",
    "finalDf = pd.merge(joinedDf,GDP, on = 'Country')\n",
    "finalDf.head()"
   ]
  },
  {
   "cell_type": "markdown",
   "metadata": {},
   "source": [
    "# EDA"
   ]
  },
  {
   "cell_type": "markdown",
   "metadata": {},
   "source": [
    "**Before performing any EDA, it's good practice to begin by singling out variables which might have an effect on the problem being analyzed. In this case, the problem being analyzed is the relationship between Firearms per capita and murder rate. With this in mind, a scatter plot between the two variables is a good start**"
   ]
  },
  {
   "cell_type": "code",
   "execution_count": 131,
   "metadata": {},
   "outputs": [
    {
     "data": {
      "text/plain": [
       "<matplotlib.axes._subplots.AxesSubplot at 0x1ea7439c898>"
      ]
     },
     "execution_count": 131,
     "metadata": {},
     "output_type": "execute_result"
    },
    {
     "data": {
      "image/png": "[encoded data removed]",
      "text/plain": [
       "<Figure size 720x720 with 1 Axes>"
      ]
     },
     "metadata": {
      "needs_background": "light"
     },
     "output_type": "display_data"
    }
   ],
   "source": [
    "#Find a way to add make bubble plot, add annotation to scatter plot\n",
    "plt.figure(figsize=(10,10))\n",
    "sns.scatterplot(x = 'Firearms per 100 persons', y = 'Murder Rate', data = finalDf)\n"
   ]
  },
  {
   "cell_type": "markdown",
   "metadata": {},
   "source": [
    "**GDP per capita, fire arms per 100 persons murder rate Bubble plot for developed countries (GDP per capita of at least $40000)**"
   ]
  },
  {
   "cell_type": "code",
   "execution_count": 191,
   "metadata": {},
   "outputs": [],
   "source": [
    "population = finalDf['Population 2017'].tolist()\n",
    "GDP = finalDf['GDP(US$million)'].tolist()\n",
    "GDP[76] = '60043'\n",
    "GDPcapita = []\n",
    "for i in range(len(GDP)): \n",
    "    GDPcapita.append((int(GDP[i])*1000000)/(population[i]))\n",
    "finalDf['GDP per capita'] = pd.Series(GDPcapita)\n"
   ]
  },
  {
   "cell_type": "code",
   "execution_count": 267,
   "metadata": {},
   "outputs": [
    {
     "ename": "KeyError",
     "evalue": "\"['GDP per capita'] not in index\"",
     "output_type": "error",
     "traceback": [
      "\u001b[1;31m---------------------------------------------------------------------------\u001b[0m",
      "\u001b[1;31mKeyError\u001b[0m                                  Traceback (most recent call last)",
      "\u001b[1;32m<ipython-input-267-7741f17a1fa1>\u001b[0m in \u001b[0;36m<module>\u001b[1;34m\u001b[0m\n\u001b[1;32m----> 1\u001b[1;33m \u001b[0mbubbleDf\u001b[0m \u001b[1;33m=\u001b[0m \u001b[0mfinalDf\u001b[0m\u001b[1;33m[\u001b[0m\u001b[1;33m[\u001b[0m\u001b[1;34m'Firearms per 100 persons'\u001b[0m\u001b[1;33m,\u001b[0m\u001b[1;34m'Murder Rate'\u001b[0m\u001b[1;33m,\u001b[0m\u001b[1;34m'GDP per capita'\u001b[0m\u001b[1;33m,\u001b[0m\u001b[1;34m'Country'\u001b[0m\u001b[1;33m]\u001b[0m\u001b[1;33m]\u001b[0m\u001b[1;33m\u001b[0m\u001b[1;33m\u001b[0m\u001b[0m\n\u001b[0m",
      "\u001b[1;32m~\\Anaconda3\\lib\\site-packages\\pandas\\core\\frame.py\u001b[0m in \u001b[0;36m__getitem__\u001b[1;34m(self, key)\u001b[0m\n\u001b[0;32m   2932\u001b[0m                 \u001b[0mkey\u001b[0m \u001b[1;33m=\u001b[0m \u001b[0mlist\u001b[0m\u001b[1;33m(\u001b[0m\u001b[0mkey\u001b[0m\u001b[1;33m)\u001b[0m\u001b[1;33m\u001b[0m\u001b[1;33m\u001b[0m\u001b[0m\n\u001b[0;32m   2933\u001b[0m             indexer = self.loc._convert_to_indexer(key, axis=1,\n\u001b[1;32m-> 2934\u001b[1;33m                                                    raise_missing=True)\n\u001b[0m\u001b[0;32m   2935\u001b[0m \u001b[1;33m\u001b[0m\u001b[0m\n\u001b[0;32m   2936\u001b[0m         \u001b[1;31m# take() does not accept boolean indexers\u001b[0m\u001b[1;33m\u001b[0m\u001b[1;33m\u001b[0m\u001b[1;33m\u001b[0m\u001b[0m\n",
      "\u001b[1;32m~\\Anaconda3\\lib\\site-packages\\pandas\\core\\indexing.py\u001b[0m in \u001b[0;36m_convert_to_indexer\u001b[1;34m(self, obj, axis, is_setter, raise_missing)\u001b[0m\n\u001b[0;32m   1352\u001b[0m                 kwargs = {'raise_missing': True if is_setter else\n\u001b[0;32m   1353\u001b[0m                           raise_missing}\n\u001b[1;32m-> 1354\u001b[1;33m                 \u001b[1;32mreturn\u001b[0m \u001b[0mself\u001b[0m\u001b[1;33m.\u001b[0m\u001b[0m_get_listlike_indexer\u001b[0m\u001b[1;33m(\u001b[0m\u001b[0mobj\u001b[0m\u001b[1;33m,\u001b[0m \u001b[0maxis\u001b[0m\u001b[1;33m,\u001b[0m \u001b[1;33m**\u001b[0m\u001b[0mkwargs\u001b[0m\u001b[1;33m)\u001b[0m\u001b[1;33m[\u001b[0m\u001b[1;36m1\u001b[0m\u001b[1;33m]\u001b[0m\u001b[1;33m\u001b[0m\u001b[1;33m\u001b[0m\u001b[0m\n\u001b[0m\u001b[0;32m   1355\u001b[0m         \u001b[1;32melse\u001b[0m\u001b[1;33m:\u001b[0m\u001b[1;33m\u001b[0m\u001b[1;33m\u001b[0m\u001b[0m\n\u001b[0;32m   1356\u001b[0m             \u001b[1;32mtry\u001b[0m\u001b[1;33m:\u001b[0m\u001b[1;33m\u001b[0m\u001b[1;33m\u001b[0m\u001b[0m\n",
      "\u001b[1;32m~\\Anaconda3\\lib\\site-packages\\pandas\\core\\indexing.py\u001b[0m in \u001b[0;36m_get_listlike_indexer\u001b[1;34m(self, key, axis, raise_missing)\u001b[0m\n\u001b[0;32m   1159\u001b[0m         self._validate_read_indexer(keyarr, indexer,\n\u001b[0;32m   1160\u001b[0m                                     \u001b[0mo\u001b[0m\u001b[1;33m.\u001b[0m\u001b[0m_get_axis_number\u001b[0m\u001b[1;33m(\u001b[0m\u001b[0maxis\u001b[0m\u001b[1;33m)\u001b[0m\u001b[1;33m,\u001b[0m\u001b[1;33m\u001b[0m\u001b[1;33m\u001b[0m\u001b[0m\n\u001b[1;32m-> 1161\u001b[1;33m                                     raise_missing=raise_missing)\n\u001b[0m\u001b[0;32m   1162\u001b[0m         \u001b[1;32mreturn\u001b[0m \u001b[0mkeyarr\u001b[0m\u001b[1;33m,\u001b[0m \u001b[0mindexer\u001b[0m\u001b[1;33m\u001b[0m\u001b[1;33m\u001b[0m\u001b[0m\n\u001b[0;32m   1163\u001b[0m \u001b[1;33m\u001b[0m\u001b[0m\n",
      "\u001b[1;32m~\\Anaconda3\\lib\\site-packages\\pandas\\core\\indexing.py\u001b[0m in \u001b[0;36m_validate_read_indexer\u001b[1;34m(self, key, indexer, axis, raise_missing)\u001b[0m\n\u001b[0;32m   1250\u001b[0m             \u001b[1;32mif\u001b[0m \u001b[1;32mnot\u001b[0m\u001b[1;33m(\u001b[0m\u001b[0mself\u001b[0m\u001b[1;33m.\u001b[0m\u001b[0mname\u001b[0m \u001b[1;33m==\u001b[0m \u001b[1;34m'loc'\u001b[0m \u001b[1;32mand\u001b[0m \u001b[1;32mnot\u001b[0m \u001b[0mraise_missing\u001b[0m\u001b[1;33m)\u001b[0m\u001b[1;33m:\u001b[0m\u001b[1;33m\u001b[0m\u001b[1;33m\u001b[0m\u001b[0m\n\u001b[0;32m   1251\u001b[0m                 \u001b[0mnot_found\u001b[0m \u001b[1;33m=\u001b[0m \u001b[0mlist\u001b[0m\u001b[1;33m(\u001b[0m\u001b[0mset\u001b[0m\u001b[1;33m(\u001b[0m\u001b[0mkey\u001b[0m\u001b[1;33m)\u001b[0m \u001b[1;33m-\u001b[0m \u001b[0mset\u001b[0m\u001b[1;33m(\u001b[0m\u001b[0max\u001b[0m\u001b[1;33m)\u001b[0m\u001b[1;33m)\u001b[0m\u001b[1;33m\u001b[0m\u001b[1;33m\u001b[0m\u001b[0m\n\u001b[1;32m-> 1252\u001b[1;33m                 \u001b[1;32mraise\u001b[0m \u001b[0mKeyError\u001b[0m\u001b[1;33m(\u001b[0m\u001b[1;34m\"{} not in index\"\u001b[0m\u001b[1;33m.\u001b[0m\u001b[0mformat\u001b[0m\u001b[1;33m(\u001b[0m\u001b[0mnot_found\u001b[0m\u001b[1;33m)\u001b[0m\u001b[1;33m)\u001b[0m\u001b[1;33m\u001b[0m\u001b[1;33m\u001b[0m\u001b[0m\n\u001b[0m\u001b[0;32m   1253\u001b[0m \u001b[1;33m\u001b[0m\u001b[0m\n\u001b[0;32m   1254\u001b[0m             \u001b[1;31m# we skip the warning on Categorical/Interval\u001b[0m\u001b[1;33m\u001b[0m\u001b[1;33m\u001b[0m\u001b[1;33m\u001b[0m\u001b[0m\n",
      "\u001b[1;31mKeyError\u001b[0m: \"['GDP per capita'] not in index\""
     ]
    }
   ],
   "source": [
    "bubbleDf = finalDf[['Firearms per 100 persons','Murder Rate','GDP per capita','Country']]"
   ]
  },
  {
   "cell_type": "code",
   "execution_count": 193,
   "metadata": {},
   "outputs": [],
   "source": [
    "newDf = bubbleDf[bubbleDf['GDP per capita'] > 40000]\n",
    "newDf = newDf.reset_index()\n",
    "newDf = newDf.drop(['index'],axis = 1)"
   ]
  },
  {
   "cell_type": "markdown",
   "metadata": {},
   "source": [
    "**Note that its sometimes necessary to transform the variables in a data set and subset the data to certain groups to reveal new insights on the data set. For instance, the scatterplot above didn't really tell us the relationship between the murder rate and firearms per capita but after performing a log transformation on  the murder rate variable and subsetting it to only the wealthiest countries of the world, it was revealed there is a strong positive correlation between murder rate and firearms per capita when it comes to developed nations**"
   ]
  },
  {
   "cell_type": "markdown",
   "metadata": {},
   "source": [
    "**Note that it's sometimes neccesary to do background research on the data set to gain a better understanding on trends or outliers found in the data set. For instance, the U.S is a clear outlier in the Data set below. After looking at the data and doing some research, I discovered this was because most guns in the U.S are unregistered while the guns in the countries in the scatter plot below were registered. Further reading revealed that this was because the countries in the bubble plot below had strict gun control policies which either mandated all guns to be registered or had complex licensing requirements to purchase gubs which hampered gun ownerchip in those countries.**"
   ]
  },
  {
   "cell_type": "markdown",
   "metadata": {},
   "source": [
    "https://en.wikipedia.org/wiki/Firearms_regulation_in_France\n",
    "https://en.wikipedia.org/wiki/Firearms_regulation_in_Finland\n",
    "https://www.loc.gov/law/help/firearms-control/singapore.php\n",
    "https://www.thenational.ae/uae/courts/abu-dhabi-shooting-rare-gun-incident-puts-spotlight-on-strict-licensing-laws-1.809198"
   ]
  },
  {
   "cell_type": "code",
   "execution_count": 266,
   "metadata": {
    "scrolled": true
   },
   "outputs": [
    {
     "ename": "KeyError",
     "evalue": "'Firearms per 100 persons'",
     "output_type": "error",
     "traceback": [
      "\u001b[1;31m---------------------------------------------------------------------------\u001b[0m",
      "\u001b[1;31mKeyError\u001b[0m                                  Traceback (most recent call last)",
      "\u001b[1;32m~\\Anaconda3\\lib\\site-packages\\pandas\\core\\indexes\\base.py\u001b[0m in \u001b[0;36mget_loc\u001b[1;34m(self, key, method, tolerance)\u001b[0m\n\u001b[0;32m   2656\u001b[0m             \u001b[1;32mtry\u001b[0m\u001b[1;33m:\u001b[0m\u001b[1;33m\u001b[0m\u001b[1;33m\u001b[0m\u001b[0m\n\u001b[1;32m-> 2657\u001b[1;33m                 \u001b[1;32mreturn\u001b[0m \u001b[0mself\u001b[0m\u001b[1;33m.\u001b[0m\u001b[0m_engine\u001b[0m\u001b[1;33m.\u001b[0m\u001b[0mget_loc\u001b[0m\u001b[1;33m(\u001b[0m\u001b[0mkey\u001b[0m\u001b[1;33m)\u001b[0m\u001b[1;33m\u001b[0m\u001b[1;33m\u001b[0m\u001b[0m\n\u001b[0m\u001b[0;32m   2658\u001b[0m             \u001b[1;32mexcept\u001b[0m \u001b[0mKeyError\u001b[0m\u001b[1;33m:\u001b[0m\u001b[1;33m\u001b[0m\u001b[1;33m\u001b[0m\u001b[0m\n",
      "\u001b[1;32mpandas/_libs/index.pyx\u001b[0m in \u001b[0;36mpandas._libs.index.IndexEngine.get_loc\u001b[1;34m()\u001b[0m\n",
      "\u001b[1;32mpandas/_libs/index.pyx\u001b[0m in \u001b[0;36mpandas._libs.index.IndexEngine.get_loc\u001b[1;34m()\u001b[0m\n",
      "\u001b[1;32mpandas/_libs/hashtable_class_helper.pxi\u001b[0m in \u001b[0;36mpandas._libs.hashtable.PyObjectHashTable.get_item\u001b[1;34m()\u001b[0m\n",
      "\u001b[1;32mpandas/_libs/hashtable_class_helper.pxi\u001b[0m in \u001b[0;36mpandas._libs.hashtable.PyObjectHashTable.get_item\u001b[1;34m()\u001b[0m\n",
      "\u001b[1;31mKeyError\u001b[0m: 'Firearms per 100 persons'",
      "\nDuring handling of the above exception, another exception occurred:\n",
      "\u001b[1;31mKeyError\u001b[0m                                  Traceback (most recent call last)",
      "\u001b[1;32m<ipython-input-266-7af85e74c628>\u001b[0m in \u001b[0;36m<module>\u001b[1;34m\u001b[0m\n\u001b[0;32m      1\u001b[0m \u001b[0mplt\u001b[0m\u001b[1;33m.\u001b[0m\u001b[0mfigure\u001b[0m\u001b[1;33m(\u001b[0m\u001b[0mfigsize\u001b[0m\u001b[1;33m=\u001b[0m\u001b[1;33m(\u001b[0m\u001b[1;36m8\u001b[0m\u001b[1;33m,\u001b[0m\u001b[1;36m8\u001b[0m\u001b[1;33m)\u001b[0m\u001b[1;33m)\u001b[0m\u001b[1;33m\u001b[0m\u001b[1;33m\u001b[0m\u001b[0m\n\u001b[1;32m----> 2\u001b[1;33m plt.scatter(x = newDf['Firearms per 100 persons'],\n\u001b[0m\u001b[0;32m      3\u001b[0m             \u001b[0my\u001b[0m \u001b[1;33m=\u001b[0m \u001b[0mnewDf\u001b[0m\u001b[1;33m[\u001b[0m\u001b[1;34m'Murder Rate'\u001b[0m\u001b[1;33m]\u001b[0m\u001b[1;33m,\u001b[0m\u001b[1;33m\u001b[0m\u001b[1;33m\u001b[0m\u001b[0m\n\u001b[0;32m      4\u001b[0m             \u001b[0ms\u001b[0m \u001b[1;33m=\u001b[0m \u001b[1;33m[\u001b[0m\u001b[1;36m0.01\u001b[0m\u001b[1;33m*\u001b[0m\u001b[0mi\u001b[0m \u001b[1;32mfor\u001b[0m \u001b[0mi\u001b[0m \u001b[1;32min\u001b[0m \u001b[0mnewDf\u001b[0m\u001b[1;33m[\u001b[0m\u001b[1;34m'GDP per capita'\u001b[0m\u001b[1;33m]\u001b[0m\u001b[1;33m]\u001b[0m\u001b[1;33m,\u001b[0m\u001b[1;33m\u001b[0m\u001b[1;33m\u001b[0m\u001b[0m\n\u001b[0;32m      5\u001b[0m            alpha = 0.5)\n",
      "\u001b[1;32m~\\Anaconda3\\lib\\site-packages\\pandas\\core\\frame.py\u001b[0m in \u001b[0;36m__getitem__\u001b[1;34m(self, key)\u001b[0m\n\u001b[0;32m   2925\u001b[0m             \u001b[1;32mif\u001b[0m \u001b[0mself\u001b[0m\u001b[1;33m.\u001b[0m\u001b[0mcolumns\u001b[0m\u001b[1;33m.\u001b[0m\u001b[0mnlevels\u001b[0m \u001b[1;33m>\u001b[0m \u001b[1;36m1\u001b[0m\u001b[1;33m:\u001b[0m\u001b[1;33m\u001b[0m\u001b[1;33m\u001b[0m\u001b[0m\n\u001b[0;32m   2926\u001b[0m                 \u001b[1;32mreturn\u001b[0m \u001b[0mself\u001b[0m\u001b[1;33m.\u001b[0m\u001b[0m_getitem_multilevel\u001b[0m\u001b[1;33m(\u001b[0m\u001b[0mkey\u001b[0m\u001b[1;33m)\u001b[0m\u001b[1;33m\u001b[0m\u001b[1;33m\u001b[0m\u001b[0m\n\u001b[1;32m-> 2927\u001b[1;33m             \u001b[0mindexer\u001b[0m \u001b[1;33m=\u001b[0m \u001b[0mself\u001b[0m\u001b[1;33m.\u001b[0m\u001b[0mcolumns\u001b[0m\u001b[1;33m.\u001b[0m\u001b[0mget_loc\u001b[0m\u001b[1;33m(\u001b[0m\u001b[0mkey\u001b[0m\u001b[1;33m)\u001b[0m\u001b[1;33m\u001b[0m\u001b[1;33m\u001b[0m\u001b[0m\n\u001b[0m\u001b[0;32m   2928\u001b[0m             \u001b[1;32mif\u001b[0m \u001b[0mis_integer\u001b[0m\u001b[1;33m(\u001b[0m\u001b[0mindexer\u001b[0m\u001b[1;33m)\u001b[0m\u001b[1;33m:\u001b[0m\u001b[1;33m\u001b[0m\u001b[1;33m\u001b[0m\u001b[0m\n\u001b[0;32m   2929\u001b[0m                 \u001b[0mindexer\u001b[0m \u001b[1;33m=\u001b[0m \u001b[1;33m[\u001b[0m\u001b[0mindexer\u001b[0m\u001b[1;33m]\u001b[0m\u001b[1;33m\u001b[0m\u001b[1;33m\u001b[0m\u001b[0m\n",
      "\u001b[1;32m~\\Anaconda3\\lib\\site-packages\\pandas\\core\\indexes\\base.py\u001b[0m in \u001b[0;36mget_loc\u001b[1;34m(self, key, method, tolerance)\u001b[0m\n\u001b[0;32m   2657\u001b[0m                 \u001b[1;32mreturn\u001b[0m \u001b[0mself\u001b[0m\u001b[1;33m.\u001b[0m\u001b[0m_engine\u001b[0m\u001b[1;33m.\u001b[0m\u001b[0mget_loc\u001b[0m\u001b[1;33m(\u001b[0m\u001b[0mkey\u001b[0m\u001b[1;33m)\u001b[0m\u001b[1;33m\u001b[0m\u001b[1;33m\u001b[0m\u001b[0m\n\u001b[0;32m   2658\u001b[0m             \u001b[1;32mexcept\u001b[0m \u001b[0mKeyError\u001b[0m\u001b[1;33m:\u001b[0m\u001b[1;33m\u001b[0m\u001b[1;33m\u001b[0m\u001b[0m\n\u001b[1;32m-> 2659\u001b[1;33m                 \u001b[1;32mreturn\u001b[0m \u001b[0mself\u001b[0m\u001b[1;33m.\u001b[0m\u001b[0m_engine\u001b[0m\u001b[1;33m.\u001b[0m\u001b[0mget_loc\u001b[0m\u001b[1;33m(\u001b[0m\u001b[0mself\u001b[0m\u001b[1;33m.\u001b[0m\u001b[0m_maybe_cast_indexer\u001b[0m\u001b[1;33m(\u001b[0m\u001b[0mkey\u001b[0m\u001b[1;33m)\u001b[0m\u001b[1;33m)\u001b[0m\u001b[1;33m\u001b[0m\u001b[1;33m\u001b[0m\u001b[0m\n\u001b[0m\u001b[0;32m   2660\u001b[0m         \u001b[0mindexer\u001b[0m \u001b[1;33m=\u001b[0m \u001b[0mself\u001b[0m\u001b[1;33m.\u001b[0m\u001b[0mget_indexer\u001b[0m\u001b[1;33m(\u001b[0m\u001b[1;33m[\u001b[0m\u001b[0mkey\u001b[0m\u001b[1;33m]\u001b[0m\u001b[1;33m,\u001b[0m \u001b[0mmethod\u001b[0m\u001b[1;33m=\u001b[0m\u001b[0mmethod\u001b[0m\u001b[1;33m,\u001b[0m \u001b[0mtolerance\u001b[0m\u001b[1;33m=\u001b[0m\u001b[0mtolerance\u001b[0m\u001b[1;33m)\u001b[0m\u001b[1;33m\u001b[0m\u001b[1;33m\u001b[0m\u001b[0m\n\u001b[0;32m   2661\u001b[0m         \u001b[1;32mif\u001b[0m \u001b[0mindexer\u001b[0m\u001b[1;33m.\u001b[0m\u001b[0mndim\u001b[0m \u001b[1;33m>\u001b[0m \u001b[1;36m1\u001b[0m \u001b[1;32mor\u001b[0m \u001b[0mindexer\u001b[0m\u001b[1;33m.\u001b[0m\u001b[0msize\u001b[0m \u001b[1;33m>\u001b[0m \u001b[1;36m1\u001b[0m\u001b[1;33m:\u001b[0m\u001b[1;33m\u001b[0m\u001b[1;33m\u001b[0m\u001b[0m\n",
      "\u001b[1;32mpandas/_libs/index.pyx\u001b[0m in \u001b[0;36mpandas._libs.index.IndexEngine.get_loc\u001b[1;34m()\u001b[0m\n",
      "\u001b[1;32mpandas/_libs/index.pyx\u001b[0m in \u001b[0;36mpandas._libs.index.IndexEngine.get_loc\u001b[1;34m()\u001b[0m\n",
      "\u001b[1;32mpandas/_libs/hashtable_class_helper.pxi\u001b[0m in \u001b[0;36mpandas._libs.hashtable.PyObjectHashTable.get_item\u001b[1;34m()\u001b[0m\n",
      "\u001b[1;32mpandas/_libs/hashtable_class_helper.pxi\u001b[0m in \u001b[0;36mpandas._libs.hashtable.PyObjectHashTable.get_item\u001b[1;34m()\u001b[0m\n",
      "\u001b[1;31mKeyError\u001b[0m: 'Firearms per 100 persons'"
     ]
    },
    {
     "data": {
      "text/plain": [
       "<Figure size 576x576 with 0 Axes>"
      ]
     },
     "metadata": {},
     "output_type": "display_data"
    }
   ],
   "source": [
    "plt.figure(figsize=(8,8))\n",
    "plt.scatter(x = newDf['Firearms per 100 persons'],\n",
    "            y = newDf['Murder Rate'],\n",
    "            s = [0.01*i for i in newDf['GDP per capita']],\n",
    "           alpha = 0.5)\n",
    "murderRate = newDf['Murder Rate'].tolist()\n",
    "country = newDf['Country'].tolist() \n",
    "perCapita = newDf['GDP per capita']\n",
    "firearms = newDf['Firearms per 100 persons']\n",
    "for i in range(len(country)):\n",
    "    plt.text((firearms[i] + 3),(murderRate[i] + 0.25),country[i])\n",
    "plt.xlabel('Firearms per 100 persons')\n",
    "plt.ylabel('Murder Rate per 100,000 inhabitants')\n",
    "plt.show()\n",
    "print(\"Correlation cofficient of\",np.corrcoef(firearms,murderRate)[0,1],\"suggests that in developed countries\")\n",
    "print(\"The number of Guns of guns per capita and murder rate have a strong positive correlatation.\")\n"
   ]
  },
  {
   "cell_type": "markdown",
   "metadata": {},
   "source": [
    "**GDP per capita, fire arms per 100 persons murder rate Bubble plot for less developed countries (GDP per capita below $1000)**"
   ]
  },
  {
   "cell_type": "code",
   "execution_count": 187,
   "metadata": {},
   "outputs": [],
   "source": [
    "newDf = bubbleDf[bubbleDf['GDP per capita'] < 1000]\n",
    "newDf = newDf.reset_index()\n",
    "newDf = newDf.drop(['index'],axis = 1)"
   ]
  },
  {
   "cell_type": "code",
   "execution_count": 189,
   "metadata": {},
   "outputs": [
    {
     "data": {
      "image/png": "[encoded data removed]",
      "text/plain": [
       "<Figure size 720x720 with 1 Axes>"
      ]
     },
     "metadata": {
      "needs_background": "light"
     },
     "output_type": "display_data"
    },
    {
     "name": "stdout",
     "output_type": "stream",
     "text": [
      "Correlation cofficient of 0.21921516383477319 suggests that in less developed countries,\n",
      "The number of Guns of guns per capita and murder rate have a weak positive correlation\n"
     ]
    }
   ],
   "source": [
    "plt.figure(figsize=(10,10))\n",
    "plt.scatter(x = newDf['Firearms per 100 persons'],\n",
    "            y = newDf['Murder Rate'],\n",
    "            s = [i for i in newDf['GDP per capita']],\n",
    "           alpha = 0.5)\n",
    "murderRate = newDf['Murder Rate'].tolist()\n",
    "country = newDf['Country'].tolist() \n",
    "perCapita = newDf['GDP per capita']\n",
    "firearms = newDf['Firearms per 100 persons']\n",
    "plt.xlabel('Firearms per 100 persons')\n",
    "plt.ylabel('Murder Rate per 100,000 inhabitants')\n",
    "for i in range(len(country)):\n",
    "    plt.text((firearms[i] + 0.25),(murderRate[i] + 0.25),country[i])\n",
    "plt.show()\n",
    "print(\"Correlation cofficient of\",np.corrcoef(firearms,murderRate)[0,1],\"suggests that in less developed countries,\")\n",
    "print(\"The number of Guns of guns per capita and murder rate have a weak positive correlation\")"
   ]
  },
  {
   "cell_type": "code",
   "execution_count": 214,
   "metadata": {},
   "outputs": [],
   "source": [
    "#Makes Data frame with Registered Firearms and unregistered firearms\n",
    "fireArms = Draft[['Registered Firearms','Unregistered firearms','Country','Population 2017']]\n",
    "joinedFirearms = pd.merge(fireArms,subsetData,on = 'Country')\n",
    "joinedFirearms = pd.merge(joinedFirearms,GDP, on = 'Country')\n",
    "analysisDf = joinedFirearms.dropna()\n",
    "analysisDf = analysisDf.reset_index()\n",
    "analysisDf = analysisDf.drop('index', axis=1)"
   ]
  },
  {
   "cell_type": "code",
   "execution_count": 241,
   "metadata": {},
   "outputs": [],
   "source": [
    "#Makes new variable ratio\n",
    "murder = analysisDf['Number of Intentional murders'].tolist()\n",
    "registered = analysisDf['Registered Firearms'].tolist()\n",
    "unregistered = analysisDf['Unregistered firearms'].tolist()\n",
    "country = analysisDf['Country'].tolist()\n",
    "ratio = []\n",
    "logMurder = []\n",
    "for i in range(len(registered)):\n",
    "    logMurder.append(np.log(murder[i]))\n",
    "    ratio.append(registered[i]/(unregistered[i] + registered[i]))\n",
    "    #ratio.append(math.exp(registered[i]/(unregistered[i] + registered[i])))  \n",
    "analysisDf['Ratio'] = pd.Series(ratio)\n",
    "analysisDf['LogMurder'] = pd.Series(logMurder)\n"
   ]
  },
  {
   "cell_type": "code",
   "execution_count": null,
   "metadata": {},
   "outputs": [],
   "source": [
    "#Plots relationship between number of murders commited and ratio between Registered Firearms and Unregistered Firearms\n",
    "plt.figure(figsize=(12,12))\n",
    "sns.scatterplot(x = 'Ratio', y = 'LogMurder', data = analysisDf)\n",
    "for i in range(len(country)):\n",
    "    plt.text((ratio[i])+ 0.02,(logMurder[i] + 0.1),country[i])\n",
    "plt.show()\n",
    "print(\"Correlation coefficient of\",np.corrcoef(ratio,logMurder)[0,1],\"Suggests there is a moderate negative correlation\")\n",
    "print(\"between the proportion of registered guns and the number of intentional murders commited.\")\n"
   ]
  },
  {
   "cell_type": "code",
   "execution_count": 244,
   "metadata": {},
   "outputs": [],
   "source": [
    "population = analysisDf['Population 2017'].tolist()\n",
    "GDP = analysisDf['GDP(US$million)'].tolist()\n",
    "GDPcapita = []\n",
    "for i in range(len(GDP)): \n",
    "    GDPcapita.append((int(GDP[i])*1000000)/(population[i]))\n",
    "analysisDf['GDP per capita'] = pd.Series(GDPcapita)"
   ]
  },
  {
   "cell_type": "code",
   "execution_count": 247,
   "metadata": {},
   "outputs": [],
   "source": [
    "bubbleDf = analysisDf[['Ratio','Murder Rate','GDP per capita','Country']]\n",
    "newDf = bubbleDf[bubbleDf['GDP per capita'] > 35000]\n",
    "newDf = newDf.reset_index()\n",
    "newDf = newDf.drop(['index'],axis = 1)"
   ]
  },
  {
   "cell_type": "code",
   "execution_count": 249,
   "metadata": {},
   "outputs": [
    {
     "data": {
      "image/png": "[encoded data removed]",
      "text/plain": [
       "<Figure size 720x720 with 1 Axes>"
      ]
     },
     "metadata": {
      "needs_background": "light"
     },
     "output_type": "display_data"
    },
    {
     "name": "stdout",
     "output_type": "stream",
     "text": [
      "Correlation cofficient of -0.4316340570724945 suggests that in developed countries\n",
      "the proportion of registered guns and murder rate have a moderate inverse correlation.\n"
     ]
    }
   ],
   "source": [
    "plt.figure(figsize=(10,10))\n",
    "plt.scatter(x = newDf['Ratio'],\n",
    "            y = newDf['Murder Rate'],\n",
    "            s = [0.01*i for i in newDf['GDP per capita']],\n",
    "           alpha = 0.5)\n",
    "murderRate = newDf['Murder Rate'].tolist()\n",
    "country = newDf['Country'].tolist() \n",
    "perCapita = newDf['GDP per capita']\n",
    "ratio = newDf['Ratio']\n",
    "for i in range(len(country)):\n",
    "    plt.text((ratio[i]) ,(murderRate[i]+ 0.1),country[i])\n",
    "plt.xlabel('Registered gun proportion')\n",
    "plt.ylabel('Murder Rate per 100,000 inhabitants')\n",
    "plt.show()\n",
    "print(\"Correlation cofficient of\",np.corrcoef(ratio,murderRate)[0,1],\"suggests that in developed countries\")\n",
    "print(\"the proportion of registered guns and murder rate have a moderate inverse correlation.\")\n"
   ]
  },
  {
   "cell_type": "markdown",
   "metadata": {},
   "source": [
    "# Conclusion"
   ]
  },
  {
   "cell_type": "markdown",
   "metadata": {},
   "source": [
    "**The EDA and correlation coefficients above showed that there is an overall positive correlation between the number of firearms per capita of a country and 'it's murder rate. Closer examination revealed that there is a negative correlation between the proportion of registered guns in a country and it's murder rate. The EDA also revealed that wealtheir countries tended to have lower crime rates when compared to poorer nations suggesting that the economic well being of a country has an effect on it's murder rate.**"
   ]
  },
  {
   "cell_type": "markdown",
   "metadata": {},
   "source": [
    "**The main take away of this assignment is that to get a more complete picture of what the data is trying to say, it's necessary to do some background research on trends and outliers in the data set and its sometimes needed to create new variables from existing columns of the data set**"
   ]
  },
  {
   "cell_type": "code",
   "execution_count": null,
   "metadata": {},
   "outputs": [],
   "source": []
  }
 ],
 "metadata": {
  "kernelspec": {
   "display_name": "Python 3",
   "language": "python",
   "name": "python3"
  },
  "language_info": {
   "codemirror_mode": {
    "name": "ipython",
    "version": 3
   },
   "file_extension": ".py",
   "mimetype": "text/x-python",
   "name": "python",
   "nbconvert_exporter": "python",
   "pygments_lexer": "ipython3",
   "version": "3.7.3"
  }
 },
 "nbformat": 4,
 "nbformat_minor": 2
}
