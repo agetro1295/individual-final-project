{
 "cells": [
  {
   "cell_type": "code",
   "execution_count": 1,
   "metadata": {},
   "outputs": [],
   "source": [
    "import pandas as pd\n",
    "from pandas import DataFrame\n",
    "import requests\n",
    "import json "
   ]
  },
  {
   "cell_type": "markdown",
   "metadata": {},
   "source": [
    "# SkyScanner API"
   ]
  },
  {
   "cell_type": "markdown",
   "metadata": {},
   "source": [
    "**Makes Data frame with price, carrier and Layover as features**"
   ]
  },
  {
   "cell_type": "code",
   "execution_count": 3,
   "metadata": {},
   "outputs": [],
   "source": [
    "url = \"https://skyscanner-skyscanner-flight-search-v1.p.rapidapi.com/apiservices/browsequotes/v1.0/US/USD/en-US/LAX/SLC/2019-12-17\"\n",
    "headers = {\n",
    "    'x-rapidapi-host': \"skyscanner-skyscanner-flight-search-v1.p.rapidapi.com\",\n",
    "    'x-rapidapi-key': \"84e4c6c1a0msh8c02297f59e03fdp170b8fjsn682e57da4f5d\"\n",
    "    }\n",
    "jsonFile = requests.request(\"GET\", url, headers=headers).json()"
   ]
  },
  {
   "cell_type": "code",
   "execution_count": 16,
   "metadata": {},
   "outputs": [
    {
     "data": {
      "text/html": [
       "<div>\n",
       "<style scoped>\n",
       "    .dataframe tbody tr th:only-of-type {\n",
       "        vertical-align: middle;\n",
       "    }\n",
       "\n",
       "    .dataframe tbody tr th {\n",
       "        vertical-align: top;\n",
       "    }\n",
       "\n",
       "    .dataframe thead th {\n",
       "        text-align: right;\n",
       "    }\n",
       "</style>\n",
       "<table border=\"1\" class=\"dataframe\">\n",
       "  <thead>\n",
       "    <tr style=\"text-align: right;\">\n",
       "      <th></th>\n",
       "      <th>Price</th>\n",
       "      <th>Carrier</th>\n",
       "      <th>Direct</th>\n",
       "    </tr>\n",
       "  </thead>\n",
       "  <tbody>\n",
       "    <tr>\n",
       "      <th>0</th>\n",
       "      <td>67.0</td>\n",
       "      <td>United</td>\n",
       "      <td>False</td>\n",
       "    </tr>\n",
       "  </tbody>\n",
       "</table>\n",
       "</div>"
      ],
      "text/plain": [
       "   Price Carrier  Direct\n",
       "0   67.0  United   False"
      ]
     },
     "execution_count": 16,
     "metadata": {},
     "output_type": "execute_result"
    }
   ],
   "source": [
    "#Gets the information we want\n",
    "price = jsonFile['Quotes'][0]['MinPrice']\n",
    "direct = jsonFile['Quotes'][0]['Direct']\n",
    "carrier = jsonFile['Quotes'][0]['OutboundLeg']['CarrierIds'][0]\n",
    "#Get Carriers:\n",
    "carrierNum = []\n",
    "carrierName = []\n",
    "for i in range(len(jsonFile['Carriers'])):\n",
    "    carrierNum.append(jsonFile['Carriers'][i]['CarrierId'])\n",
    "    carrierName.append(jsonFile['Carriers'][i]['Name'])\n",
    "#Makes dictionaries with relevant info\n",
    "dicts = {'Price': price,'Carrier':carrierName[carrierNum.index(carrier)],'Direct': direct}\n",
    "#Makes dataframe\n",
    "pd.DataFrame(dicts, index=[0])"
   ]
  },
  {
   "cell_type": "markdown",
   "metadata": {},
   "source": [
    "# Hipmunk API"
   ]
  },
  {
   "cell_type": "markdown",
   "metadata": {},
   "source": [
    "**Makes Data frame with distance and date as features**"
   ]
  },
  {
   "cell_type": "code",
   "execution_count": null,
   "metadata": {},
   "outputs": [],
   "source": [
    "import requests\n",
    "url = \"https://apidojo-hipmunk-v1.p.rapidapi.com/flights/create-session\"\n",
    "querystring = {\"infants_lap\":\"0\",\"children\":\"0\",\"seniors\":\"0\",\"country\":\"US\",\"from0\":\"LAX\",\"to0\":\"BWI\",\"date0\":\"Feb 12 2020\",\"pax\":\"1\",\"cabin\":\"Basic Coach\"}\n",
    "headers = {\n",
    "    'x-rapidapi-host': \"apidojo-hipmunk-v1.p.rapidapi.com\",\n",
    "    'x-rapidapi-key': \"84e4c6c1a0msh8c02297f59e03fdp170b8fjsn682e57da4f5d\"\n",
    "    }"
   ]
  }
 ],
 "metadata": {
  "kernelspec": {
   "display_name": "Python 3",
   "language": "python",
   "name": "python3"
  },
  "language_info": {
   "codemirror_mode": {
    "name": "ipython",
    "version": 3
   },
   "file_extension": ".py",
   "mimetype": "text/x-python",
   "name": "python",
   "nbconvert_exporter": "python",
   "pygments_lexer": "ipython3",
   "version": "3.7.3"
  }
 },
 "nbformat": 4,
 "nbformat_minor": 2
}
